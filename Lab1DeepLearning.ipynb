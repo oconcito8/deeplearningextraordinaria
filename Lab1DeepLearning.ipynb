{
  "nbformat": 4,
  "nbformat_minor": 0,
  "metadata": {
    "colab": {
      "provenance": []
    },
    "kernelspec": {
      "name": "python3",
      "display_name": "Python 3"
    },
    "language_info": {
      "name": "python"
    }
  },
  "cells": [
    {
      "cell_type": "markdown",
      "source": [
        "# *Práctica LAB1 IA Generativa - Uso avanzado de RNN*\n",
        "\n",
        "\n",
        "GRUPO: A08\n",
        "\n",
        "CARLOS OCON GARAY.\n",
        "\n",
        "PEDRO GARCIA SILGO"
      ],
      "metadata": {
        "id": "oh3A7capLgit"
      }
    },
    {
      "cell_type": "markdown",
      "source": [
        "Para esta práctica se pide lo siguiente. En ploblema de pronóstico de temperatura, se puede mejorar el rendimiento de muchas maneras:\n",
        "\n",
        "\n",
        "1. Ajustar la cantidad de unidades en cada capa recurrente en la configuración apilada, así como la cantidad de dropout.\n",
        "2. Ajustar la tasa de aprendizaje utilizada por el optimizador RMsprop o probar con un optimizador diferente.\n",
        "3. Utilizar una pila de capas Dense como regresor encima de la capa recurrente, en lugar de una capa Dense.\n",
        "4. Mejorar la entrada al modelo: intentar usar secuencias más largas o más cortas, o usar una tasa de muestreo diferente, o hacer ingeniería de características.\n",
        "\n"
      ],
      "metadata": {
        "id": "t_fzeXpDLsW2"
      }
    },
    {
      "cell_type": "markdown",
      "source": [
        "Para cumplir con los objetivos, se realizarán pautas para ver como mejoran o empeoran los modelos para acercarse a un modelo más preciso. Pero, al no haber una teoría específica de cómo mejorar un modelo, se recurre al acierto y al error.\n",
        "\n",
        "Por ejemplo, los modelos de series temporales no funcionan en todos los ámbitos donde el tiempo es importante. En la bolsa, por ejemplo, no se puede preveer qué pasará observando el pasado."
      ],
      "metadata": {
        "id": "yU92AfJkM_fy"
      }
    },
    {
      "cell_type": "markdown",
      "source": [
        "Una vez sabido esto, se prosigue con la práctica."
      ],
      "metadata": {
        "id": "Iwj7mwczZ2dv"
      }
    },
    {
      "cell_type": "markdown",
      "source": [
        "### Librerías"
      ],
      "metadata": {
        "id": "ckSUTW7VZ_gv"
      }
    },
    {
      "cell_type": "code",
      "source": [
        "!pip install keras-tuner\n",
        "\n",
        "import os\n",
        "import pandas as pd\n",
        "import numpy as np\n",
        "import tensorflow as tf\n",
        "from tensorflow import keras\n",
        "from tensorflow.keras.models import Sequential\n",
        "from tensorflow.keras.layers import SimpleRNN, Dense, LSTM, Dropout\n",
        "from tensorflow.keras.optimizers import Adam\n",
        "from kerastuner.tuners import RandomSearch\n",
        "import matplotlib.pyplot as plt\n",
        "import keras_tuner"
      ],
      "metadata": {
        "colab": {
          "base_uri": "https://localhost:8080/"
        },
        "id": "Vkb0Fwu1Z10d",
        "outputId": "82c0ffa9-1680-49c4-9f97-56b77dc94e6b"
      },
      "execution_count": 38,
      "outputs": [
        {
          "output_type": "stream",
          "name": "stdout",
          "text": [
            "Collecting keras-tuner\n",
            "  Downloading keras_tuner-1.4.7-py3-none-any.whl.metadata (5.4 kB)\n",
            "Requirement already satisfied: keras in c:\\users\\fosky\\anaconda3\\lib\\site-packages (from keras-tuner) (3.3.3)\n",
            "Requirement already satisfied: packaging in c:\\users\\fosky\\anaconda3\\lib\\site-packages (from keras-tuner) (23.1)\n",
            "Requirement already satisfied: requests in c:\\users\\fosky\\anaconda3\\lib\\site-packages (from keras-tuner) (2.31.0)\n",
            "Collecting kt-legacy (from keras-tuner)\n",
            "  Downloading kt_legacy-1.0.5-py3-none-any.whl.metadata (221 bytes)\n",
            "Requirement already satisfied: absl-py in c:\\users\\fosky\\anaconda3\\lib\\site-packages (from keras->keras-tuner) (2.1.0)\n",
            "Requirement already satisfied: numpy in c:\\users\\fosky\\anaconda3\\lib\\site-packages (from keras->keras-tuner) (1.26.4)\n",
            "Requirement already satisfied: rich in c:\\users\\fosky\\anaconda3\\lib\\site-packages (from keras->keras-tuner) (13.3.5)\n",
            "Requirement already satisfied: namex in c:\\users\\fosky\\anaconda3\\lib\\site-packages (from keras->keras-tuner) (0.0.8)\n",
            "Requirement already satisfied: h5py in c:\\users\\fosky\\anaconda3\\lib\\site-packages (from keras->keras-tuner) (3.11.0)\n",
            "Requirement already satisfied: optree in c:\\users\\fosky\\anaconda3\\lib\\site-packages (from keras->keras-tuner) (0.11.0)\n",
            "Requirement already satisfied: ml-dtypes in c:\\users\\fosky\\anaconda3\\lib\\site-packages (from keras->keras-tuner) (0.3.2)\n",
            "Requirement already satisfied: charset-normalizer<4,>=2 in c:\\users\\fosky\\anaconda3\\lib\\site-packages (from requests->keras-tuner) (2.0.4)\n",
            "Requirement already satisfied: idna<4,>=2.5 in c:\\users\\fosky\\anaconda3\\lib\\site-packages (from requests->keras-tuner) (3.4)\n",
            "Requirement already satisfied: urllib3<3,>=1.21.1 in c:\\users\\fosky\\anaconda3\\lib\\site-packages (from requests->keras-tuner) (2.0.7)\n",
            "Requirement already satisfied: certifi>=2017.4.17 in c:\\users\\fosky\\anaconda3\\lib\\site-packages (from requests->keras-tuner) (2024.2.2)\n",
            "Requirement already satisfied: typing-extensions>=4.0.0 in c:\\users\\fosky\\anaconda3\\lib\\site-packages (from optree->keras->keras-tuner) (4.9.0)\n",
            "Requirement already satisfied: markdown-it-py<3.0.0,>=2.2.0 in c:\\users\\fosky\\anaconda3\\lib\\site-packages (from rich->keras->keras-tuner) (2.2.0)\n",
            "Requirement already satisfied: pygments<3.0.0,>=2.13.0 in c:\\users\\fosky\\anaconda3\\lib\\site-packages (from rich->keras->keras-tuner) (2.15.1)\n",
            "Requirement already satisfied: mdurl~=0.1 in c:\\users\\fosky\\anaconda3\\lib\\site-packages (from markdown-it-py<3.0.0,>=2.2.0->rich->keras->keras-tuner) (0.1.0)\n",
            "Downloading keras_tuner-1.4.7-py3-none-any.whl (129 kB)\n",
            "   ---------------------------------------- 0.0/129.1 kB ? eta -:--:--\n",
            "   --- ------------------------------------ 10.2/129.1 kB ? eta -:--:--\n",
            "   ---------------------------------------- 129.1/129.1 kB 1.9 MB/s eta 0:00:00\n",
            "Downloading kt_legacy-1.0.5-py3-none-any.whl (9.6 kB)\n",
            "Installing collected packages: kt-legacy, keras-tuner\n",
            "Successfully installed keras-tuner-1.4.7 kt-legacy-1.0.5\n"
          ]
        },
        {
          "output_type": "stream",
          "name": "stderr",
          "text": [
            "C:\\Users\\fosky\\AppData\\Local\\Temp\\ipykernel_21460\\3191593513.py:11: DeprecationWarning: `import kerastuner` is deprecated, please use `import keras_tuner`.\n",
            "  from kerastuner.tuners import RandomSearch\n"
          ]
        }
      ]
    },
    {
      "cell_type": "code",
      "source": [
        "# Se descargan los datos\n",
        "df = pd.read_csv('jena_climate_2009_2016.csv')\n",
        "date_time = pd.to_datetime(df.pop('Date Time'), format='%d.%m.%Y %H:%M:%S')\n",
        "print(df.shape)\n",
        "df.head()"
      ],
      "metadata": {
        "colab": {
          "base_uri": "https://localhost:8080/",
          "height": 278
        },
        "id": "qwE-wM2TZ8rX",
        "outputId": "87088e8b-fb1f-445b-e5c7-9542737e2407"
      },
      "execution_count": 39,
      "outputs": [
        {
          "output_type": "stream",
          "name": "stdout",
          "text": [
            "(420451, 14)\n"
          ]
        },
        {
          "output_type": "execute_result",
          "data": {
            "text/plain": [
              "   p (mbar)  T (degC)  Tpot (K)  Tdew (degC)  rh (%)  VPmax (mbar)  \\\n",
              "0    996.52     -8.02    265.40        -8.90    93.3          3.33   \n",
              "1    996.57     -8.41    265.01        -9.28    93.4          3.23   \n",
              "2    996.53     -8.51    264.91        -9.31    93.9          3.21   \n",
              "3    996.51     -8.31    265.12        -9.07    94.2          3.26   \n",
              "4    996.51     -8.27    265.15        -9.04    94.1          3.27   \n",
              "\n",
              "   VPact (mbar)  VPdef (mbar)  sh (g/kg)  H2OC (mmol/mol)  rho (g/m**3)  \\\n",
              "0          3.11          0.22       1.94             3.12       1307.75   \n",
              "1          3.02          0.21       1.89             3.03       1309.80   \n",
              "2          3.01          0.20       1.88             3.02       1310.24   \n",
              "3          3.07          0.19       1.92             3.08       1309.19   \n",
              "4          3.08          0.19       1.92             3.09       1309.00   \n",
              "\n",
              "   wv (m/s)  max. wv (m/s)  wd (deg)  \n",
              "0      1.03           1.75     152.3  \n",
              "1      0.72           1.50     136.1  \n",
              "2      0.19           0.63     171.6  \n",
              "3      0.34           0.50     198.0  \n",
              "4      0.32           0.63     214.3  "
            ],
            "text/html": [
              "<div>\n",
              "<style scoped>\n",
              "    .dataframe tbody tr th:only-of-type {\n",
              "        vertical-align: middle;\n",
              "    }\n",
              "\n",
              "    .dataframe tbody tr th {\n",
              "        vertical-align: top;\n",
              "    }\n",
              "\n",
              "    .dataframe thead th {\n",
              "        text-align: right;\n",
              "    }\n",
              "</style>\n",
              "<table border=\"1\" class=\"dataframe\">\n",
              "  <thead>\n",
              "    <tr style=\"text-align: right;\">\n",
              "      <th></th>\n",
              "      <th>p (mbar)</th>\n",
              "      <th>T (degC)</th>\n",
              "      <th>Tpot (K)</th>\n",
              "      <th>Tdew (degC)</th>\n",
              "      <th>rh (%)</th>\n",
              "      <th>VPmax (mbar)</th>\n",
              "      <th>VPact (mbar)</th>\n",
              "      <th>VPdef (mbar)</th>\n",
              "      <th>sh (g/kg)</th>\n",
              "      <th>H2OC (mmol/mol)</th>\n",
              "      <th>rho (g/m**3)</th>\n",
              "      <th>wv (m/s)</th>\n",
              "      <th>max. wv (m/s)</th>\n",
              "      <th>wd (deg)</th>\n",
              "    </tr>\n",
              "  </thead>\n",
              "  <tbody>\n",
              "    <tr>\n",
              "      <th>0</th>\n",
              "      <td>996.52</td>\n",
              "      <td>-8.02</td>\n",
              "      <td>265.40</td>\n",
              "      <td>-8.90</td>\n",
              "      <td>93.3</td>\n",
              "      <td>3.33</td>\n",
              "      <td>3.11</td>\n",
              "      <td>0.22</td>\n",
              "      <td>1.94</td>\n",
              "      <td>3.12</td>\n",
              "      <td>1307.75</td>\n",
              "      <td>1.03</td>\n",
              "      <td>1.75</td>\n",
              "      <td>152.3</td>\n",
              "    </tr>\n",
              "    <tr>\n",
              "      <th>1</th>\n",
              "      <td>996.57</td>\n",
              "      <td>-8.41</td>\n",
              "      <td>265.01</td>\n",
              "      <td>-9.28</td>\n",
              "      <td>93.4</td>\n",
              "      <td>3.23</td>\n",
              "      <td>3.02</td>\n",
              "      <td>0.21</td>\n",
              "      <td>1.89</td>\n",
              "      <td>3.03</td>\n",
              "      <td>1309.80</td>\n",
              "      <td>0.72</td>\n",
              "      <td>1.50</td>\n",
              "      <td>136.1</td>\n",
              "    </tr>\n",
              "    <tr>\n",
              "      <th>2</th>\n",
              "      <td>996.53</td>\n",
              "      <td>-8.51</td>\n",
              "      <td>264.91</td>\n",
              "      <td>-9.31</td>\n",
              "      <td>93.9</td>\n",
              "      <td>3.21</td>\n",
              "      <td>3.01</td>\n",
              "      <td>0.20</td>\n",
              "      <td>1.88</td>\n",
              "      <td>3.02</td>\n",
              "      <td>1310.24</td>\n",
              "      <td>0.19</td>\n",
              "      <td>0.63</td>\n",
              "      <td>171.6</td>\n",
              "    </tr>\n",
              "    <tr>\n",
              "      <th>3</th>\n",
              "      <td>996.51</td>\n",
              "      <td>-8.31</td>\n",
              "      <td>265.12</td>\n",
              "      <td>-9.07</td>\n",
              "      <td>94.2</td>\n",
              "      <td>3.26</td>\n",
              "      <td>3.07</td>\n",
              "      <td>0.19</td>\n",
              "      <td>1.92</td>\n",
              "      <td>3.08</td>\n",
              "      <td>1309.19</td>\n",
              "      <td>0.34</td>\n",
              "      <td>0.50</td>\n",
              "      <td>198.0</td>\n",
              "    </tr>\n",
              "    <tr>\n",
              "      <th>4</th>\n",
              "      <td>996.51</td>\n",
              "      <td>-8.27</td>\n",
              "      <td>265.15</td>\n",
              "      <td>-9.04</td>\n",
              "      <td>94.1</td>\n",
              "      <td>3.27</td>\n",
              "      <td>3.08</td>\n",
              "      <td>0.19</td>\n",
              "      <td>1.92</td>\n",
              "      <td>3.09</td>\n",
              "      <td>1309.00</td>\n",
              "      <td>0.32</td>\n",
              "      <td>0.63</td>\n",
              "      <td>214.3</td>\n",
              "    </tr>\n",
              "  </tbody>\n",
              "</table>\n",
              "</div>"
            ]
          },
          "metadata": {},
          "execution_count": 39
        }
      ]
    },
    {
      "cell_type": "code",
      "source": [
        "df.describe()"
      ],
      "metadata": {
        "colab": {
          "base_uri": "https://localhost:8080/",
          "height": 337
        },
        "id": "6jD5qobJaG-u",
        "outputId": "a36cf894-a5d9-41d0-ecd6-bc52241204a4"
      },
      "execution_count": 40,
      "outputs": [
        {
          "output_type": "execute_result",
          "data": {
            "text/plain": [
              "            p (mbar)       T (degC)       Tpot (K)    Tdew (degC)  \\\n",
              "count  420451.000000  420451.000000  420451.000000  420451.000000   \n",
              "mean      989.212508       9.448567     283.491182       4.954011   \n",
              "std         8.359454       8.423685       8.504820       6.730411   \n",
              "min       913.600000     -23.010000     250.600000     -25.010000   \n",
              "25%       984.200000       3.360000     277.430000       0.240000   \n",
              "50%       989.570000       9.410000     283.460000       5.210000   \n",
              "75%       994.720000      15.470000     289.530000      10.070000   \n",
              "max      1015.350000      37.280000     311.340000      23.110000   \n",
              "\n",
              "              rh (%)   VPmax (mbar)   VPact (mbar)   VPdef (mbar)  \\\n",
              "count  420451.000000  420451.000000  420451.000000  420451.000000   \n",
              "mean       76.007045      13.575089       9.532524       4.042483   \n",
              "std        16.477126       7.739481       4.183895       4.897270   \n",
              "min        12.950000       0.950000       0.790000       0.000000   \n",
              "25%        65.210000       7.780000       6.210000       0.870000   \n",
              "50%        79.300000      11.820000       8.860000       2.190000   \n",
              "75%        89.400000      17.600000      12.350000       5.300000   \n",
              "max       100.000000      63.770000      28.320000      46.010000   \n",
              "\n",
              "           sh (g/kg)  H2OC (mmol/mol)   rho (g/m**3)       wv (m/s)  \\\n",
              "count  420451.000000    420451.000000  420451.000000  420451.000000   \n",
              "mean        6.021630         9.638982    1216.069883       2.130309   \n",
              "std         2.655973         4.235130      39.977065       1.541830   \n",
              "min         0.500000         0.800000    1059.450000       0.000000   \n",
              "25%         3.920000         6.290000    1187.490000       0.990000   \n",
              "50%         5.590000         8.960000    1213.800000       1.760000   \n",
              "75%         7.800000        12.480000    1242.770000       2.860000   \n",
              "max        18.130000        28.820000    1393.540000      14.630000   \n",
              "\n",
              "       max. wv (m/s)       wd (deg)  \n",
              "count  420451.000000  420451.000000  \n",
              "mean        3.532381     174.726164  \n",
              "std         2.340482      86.675965  \n",
              "min         0.000000       0.000000  \n",
              "25%         1.760000     124.800000  \n",
              "50%         2.960000     198.100000  \n",
              "75%         4.740000     234.100000  \n",
              "max        23.500000     360.000000  "
            ],
            "text/html": [
              "<div>\n",
              "<style scoped>\n",
              "    .dataframe tbody tr th:only-of-type {\n",
              "        vertical-align: middle;\n",
              "    }\n",
              "\n",
              "    .dataframe tbody tr th {\n",
              "        vertical-align: top;\n",
              "    }\n",
              "\n",
              "    .dataframe thead th {\n",
              "        text-align: right;\n",
              "    }\n",
              "</style>\n",
              "<table border=\"1\" class=\"dataframe\">\n",
              "  <thead>\n",
              "    <tr style=\"text-align: right;\">\n",
              "      <th></th>\n",
              "      <th>p (mbar)</th>\n",
              "      <th>T (degC)</th>\n",
              "      <th>Tpot (K)</th>\n",
              "      <th>Tdew (degC)</th>\n",
              "      <th>rh (%)</th>\n",
              "      <th>VPmax (mbar)</th>\n",
              "      <th>VPact (mbar)</th>\n",
              "      <th>VPdef (mbar)</th>\n",
              "      <th>sh (g/kg)</th>\n",
              "      <th>H2OC (mmol/mol)</th>\n",
              "      <th>rho (g/m**3)</th>\n",
              "      <th>wv (m/s)</th>\n",
              "      <th>max. wv (m/s)</th>\n",
              "      <th>wd (deg)</th>\n",
              "    </tr>\n",
              "  </thead>\n",
              "  <tbody>\n",
              "    <tr>\n",
              "      <th>count</th>\n",
              "      <td>420451.000000</td>\n",
              "      <td>420451.000000</td>\n",
              "      <td>420451.000000</td>\n",
              "      <td>420451.000000</td>\n",
              "      <td>420451.000000</td>\n",
              "      <td>420451.000000</td>\n",
              "      <td>420451.000000</td>\n",
              "      <td>420451.000000</td>\n",
              "      <td>420451.000000</td>\n",
              "      <td>420451.000000</td>\n",
              "      <td>420451.000000</td>\n",
              "      <td>420451.000000</td>\n",
              "      <td>420451.000000</td>\n",
              "      <td>420451.000000</td>\n",
              "    </tr>\n",
              "    <tr>\n",
              "      <th>mean</th>\n",
              "      <td>989.212508</td>\n",
              "      <td>9.448567</td>\n",
              "      <td>283.491182</td>\n",
              "      <td>4.954011</td>\n",
              "      <td>76.007045</td>\n",
              "      <td>13.575089</td>\n",
              "      <td>9.532524</td>\n",
              "      <td>4.042483</td>\n",
              "      <td>6.021630</td>\n",
              "      <td>9.638982</td>\n",
              "      <td>1216.069883</td>\n",
              "      <td>2.130309</td>\n",
              "      <td>3.532381</td>\n",
              "      <td>174.726164</td>\n",
              "    </tr>\n",
              "    <tr>\n",
              "      <th>std</th>\n",
              "      <td>8.359454</td>\n",
              "      <td>8.423685</td>\n",
              "      <td>8.504820</td>\n",
              "      <td>6.730411</td>\n",
              "      <td>16.477126</td>\n",
              "      <td>7.739481</td>\n",
              "      <td>4.183895</td>\n",
              "      <td>4.897270</td>\n",
              "      <td>2.655973</td>\n",
              "      <td>4.235130</td>\n",
              "      <td>39.977065</td>\n",
              "      <td>1.541830</td>\n",
              "      <td>2.340482</td>\n",
              "      <td>86.675965</td>\n",
              "    </tr>\n",
              "    <tr>\n",
              "      <th>min</th>\n",
              "      <td>913.600000</td>\n",
              "      <td>-23.010000</td>\n",
              "      <td>250.600000</td>\n",
              "      <td>-25.010000</td>\n",
              "      <td>12.950000</td>\n",
              "      <td>0.950000</td>\n",
              "      <td>0.790000</td>\n",
              "      <td>0.000000</td>\n",
              "      <td>0.500000</td>\n",
              "      <td>0.800000</td>\n",
              "      <td>1059.450000</td>\n",
              "      <td>0.000000</td>\n",
              "      <td>0.000000</td>\n",
              "      <td>0.000000</td>\n",
              "    </tr>\n",
              "    <tr>\n",
              "      <th>25%</th>\n",
              "      <td>984.200000</td>\n",
              "      <td>3.360000</td>\n",
              "      <td>277.430000</td>\n",
              "      <td>0.240000</td>\n",
              "      <td>65.210000</td>\n",
              "      <td>7.780000</td>\n",
              "      <td>6.210000</td>\n",
              "      <td>0.870000</td>\n",
              "      <td>3.920000</td>\n",
              "      <td>6.290000</td>\n",
              "      <td>1187.490000</td>\n",
              "      <td>0.990000</td>\n",
              "      <td>1.760000</td>\n",
              "      <td>124.800000</td>\n",
              "    </tr>\n",
              "    <tr>\n",
              "      <th>50%</th>\n",
              "      <td>989.570000</td>\n",
              "      <td>9.410000</td>\n",
              "      <td>283.460000</td>\n",
              "      <td>5.210000</td>\n",
              "      <td>79.300000</td>\n",
              "      <td>11.820000</td>\n",
              "      <td>8.860000</td>\n",
              "      <td>2.190000</td>\n",
              "      <td>5.590000</td>\n",
              "      <td>8.960000</td>\n",
              "      <td>1213.800000</td>\n",
              "      <td>1.760000</td>\n",
              "      <td>2.960000</td>\n",
              "      <td>198.100000</td>\n",
              "    </tr>\n",
              "    <tr>\n",
              "      <th>75%</th>\n",
              "      <td>994.720000</td>\n",
              "      <td>15.470000</td>\n",
              "      <td>289.530000</td>\n",
              "      <td>10.070000</td>\n",
              "      <td>89.400000</td>\n",
              "      <td>17.600000</td>\n",
              "      <td>12.350000</td>\n",
              "      <td>5.300000</td>\n",
              "      <td>7.800000</td>\n",
              "      <td>12.480000</td>\n",
              "      <td>1242.770000</td>\n",
              "      <td>2.860000</td>\n",
              "      <td>4.740000</td>\n",
              "      <td>234.100000</td>\n",
              "    </tr>\n",
              "    <tr>\n",
              "      <th>max</th>\n",
              "      <td>1015.350000</td>\n",
              "      <td>37.280000</td>\n",
              "      <td>311.340000</td>\n",
              "      <td>23.110000</td>\n",
              "      <td>100.000000</td>\n",
              "      <td>63.770000</td>\n",
              "      <td>28.320000</td>\n",
              "      <td>46.010000</td>\n",
              "      <td>18.130000</td>\n",
              "      <td>28.820000</td>\n",
              "      <td>1393.540000</td>\n",
              "      <td>14.630000</td>\n",
              "      <td>23.500000</td>\n",
              "      <td>360.000000</td>\n",
              "    </tr>\n",
              "  </tbody>\n",
              "</table>\n",
              "</div>"
            ]
          },
          "metadata": {},
          "execution_count": 40
        }
      ]
    },
    {
      "cell_type": "markdown",
      "source": [
        "A simple vista, los datos parecen correctos y no tienen fallas."
      ],
      "metadata": {
        "id": "-nyYk6XiaIsP"
      }
    },
    {
      "cell_type": "markdown",
      "source": [
        "### Dirección del viento"
      ],
      "metadata": {
        "id": "lN_sQmNwaQFV"
      }
    },
    {
      "cell_type": "markdown",
      "source": [
        "Puede ser que haya datos que indiquen lo mismo. En el caso de la dirección del viento, 0º y 360º indican lo mismo. Para tratar este problema, se pueden usar senos y cosenos para representar vectores, asi indican lo mismo y no mediante nùmeros."
      ],
      "metadata": {
        "id": "2mEhwyZMaVNw"
      }
    },
    {
      "cell_type": "code",
      "source": [
        "plt.hist2d(df['wd (deg)'], df['wv (m/s)'], bins=(50, 50), vmax=400)\n",
        "plt.colorbar()\n",
        "plt.xlabel('Wind Direction [deg]')\n",
        "plt.ylabel('Wind Velocity [m/s]')\n",
        "plt.show()"
      ],
      "metadata": {
        "colab": {
          "base_uri": "https://localhost:8080/",
          "height": 455
        },
        "id": "YIkOgx6lavz_",
        "outputId": "c559eed3-db53-4110-db41-f8228c2f96e7"
      },
      "execution_count": 41,
      "outputs": [
        {
          "output_type": "display_data",
          "data": {
            "text/plain": [
              "<Figure size 640x480 with 2 Axes>"
            ],
            "image/png": "[encoded data removed]"
          },
          "metadata": {}
        }
      ]
    },
    {
      "cell_type": "markdown",
      "source": [
        "Según la gráfica, los datos están dispersos y no se saca nada en claro.\n",
        "\n",
        "Pero, si se transforman a vectores, se puede llegar a ver similitudes o patrones."
      ],
      "metadata": {
        "id": "eVaAVBy4a2pE"
      }
    },
    {
      "cell_type": "code",
      "source": [
        "wv = df.pop('wv (m/s)')\n",
        "max_wv = df.pop('max. wv (m/s)')\n",
        "\n",
        "# Convert to radians.\n",
        "wd_rad = df.pop('wd (deg)')*np.pi / 180\n",
        "\n",
        "# Calculate the wind x and y components.\n",
        "df['Wx'] = wv*np.cos(wd_rad)\n",
        "df['Wy'] = wv*np.sin(wd_rad)\n",
        "\n",
        "# Calculate the max wind x and y components.\n",
        "df['max Wx'] = max_wv*np.cos(wd_rad)\n",
        "df['max Wy'] = max_wv*np.sin(wd_rad)"
      ],
      "metadata": {
        "id": "bd7AKSDcazf7"
      },
      "execution_count": 42,
      "outputs": []
    },
    {
      "cell_type": "code",
      "source": [
        "plt.hist2d(df['Wx'], df['Wy'], bins=(50, 50), vmax=400)\n",
        "plt.colorbar()\n",
        "plt.xlabel('Wind X [m/s]')\n",
        "plt.ylabel('Wind Y [m/s]')\n",
        "ax = plt.gca()\n",
        "ax.axis('tight')"
      ],
      "metadata": {
        "colab": {
          "base_uri": "https://localhost:8080/",
          "height": 472
        },
        "id": "-dgrVJ67a1Bj",
        "outputId": "4e304dba-f936-440b-9847-89c82ef9bc62"
      },
      "execution_count": 43,
      "outputs": [
        {
          "output_type": "execute_result",
          "data": {
            "text/plain": [
              "(-12.185637751588763, 8.475086644274262, -8.27438540335515, 7.849152333233395)"
            ]
          },
          "metadata": {},
          "execution_count": 43
        },
        {
          "output_type": "display_data",
          "data": {
            "text/plain": [
              "<Figure size 640x480 with 2 Axes>"
            ],
            "image/png": "[encoded data removed]"
          },
          "metadata": {}
        }
      ]
    },
    {
      "cell_type": "markdown",
      "source": [
        "Además, de esta manera, el modelo aprende mejor Por lo que, al transformar los datos, se añade información que de la ora manera no se habría obtenido, como la relación espacial, la proximidad angular o la dispersoón reducida."
      ],
      "metadata": {
        "id": "dCBJCmmfbGY7"
      }
    },
    {
      "cell_type": "markdown",
      "source": [
        "### Tiempo"
      ],
      "metadata": {
        "id": "AcLERGPrbeg8"
      }
    },
    {
      "cell_type": "markdown",
      "source": [
        "Otra de las variables fundamentales es el tiempo. Los datos se miden cada 10 minutos, pero para predecir los datos, se utilizan los 50 minutos antes de los 10 donde marca la temperatura."
      ],
      "metadata": {
        "id": "korT_tqpbgMn"
      }
    },
    {
      "cell_type": "code",
      "source": [
        "timestamp_s = date_time.map(pd.Timestamp.timestamp)\n",
        "\n",
        "day = 24*60*60\n",
        "year = (365.2425)*day\n",
        "\n",
        "df['Day sin'] = np.sin(timestamp_s * (2 * np.pi / day))\n",
        "df['Day cos'] = np.cos(timestamp_s * (2 * np.pi / day))\n",
        "df['Year sin'] = np.sin(timestamp_s * (2 * np.pi / year))\n",
        "df['Year cos'] = np.cos(timestamp_s * (2 * np.pi / year))"
      ],
      "metadata": {
        "id": "3a43wYWvb3YN"
      },
      "execution_count": 44,
      "outputs": []
    },
    {
      "cell_type": "code",
      "source": [
        "\n",
        "plt.plot(np.array(df['Day sin'])[:25*6])\n",
        "plt.plot(np.array(df['Day cos'])[:25*6])\n",
        "plt.xlabel('Time [min]')\n",
        "plt.title('Time of day signal')\n",
        "plt.show()"
      ],
      "metadata": {
        "colab": {
          "base_uri": "https://localhost:8080/",
          "height": 470
        },
        "id": "-yG12Xz0b4R7",
        "outputId": "eada60da-dc71-431c-ea0f-5f209d8a43f4"
      },
      "execution_count": 45,
      "outputs": [
        {
          "output_type": "display_data",
          "data": {
            "text/plain": [
              "<Figure size 640x480 with 1 Axes>"
            ],
            "image/png": "[encoded data removed]"
          },
          "metadata": {}
        }
      ]
    },
    {
      "cell_type": "markdown",
      "source": [
        "Si se representan tanto la hora y día como funciones sinusoidales, se muestra periodicidad."
      ],
      "metadata": {
        "id": "BdnztO-ab8YR"
      }
    },
    {
      "cell_type": "markdown",
      "source": [
        "### Temperatura"
      ],
      "metadata": {
        "id": "kqmRrK3_cFOM"
      }
    },
    {
      "cell_type": "markdown",
      "source": [
        "Otra manera de reducir el ruido y acercar más el modelo a uno más optimo, es utilizar la media movil de la temperatura de los primeros 50 minutos. Además, esto puede ser imoortante ante los cambios bruscos de temperatura. Puede avisar de algun suceso."
      ],
      "metadata": {
        "id": "NJNMGcrgcM5G"
      }
    },
    {
      "cell_type": "markdown",
      "source": [
        "### Dataset"
      ],
      "metadata": {
        "id": "h3paoRj3cpXP"
      }
    },
    {
      "cell_type": "code",
      "source": [
        "temperature = np.zeros((df.shape[0],))\n",
        "raw_data = np.zeros((df.shape[0], df.shape[1] - 1))\n",
        "for i, values in enumerate(df.to_numpy()):\n",
        "    # Guardamos columna 1 en el array temperatura\n",
        "    temperature[i] = values[1]\n",
        "    # Guardamos todas las columnas (temperatura\n",
        "    # incluida) en el array raw_data\n",
        "    raw_data[i, :] = values[1:]\n",
        "\n",
        "num_train_samples = int(0.5 * len(raw_data))\n",
        "num_val_samples = int(0.25 * len(raw_data))\n",
        "num_test_samples = len(raw_data) - num_train_samples - num_val_samples\n",
        "print(\"num_train_samples:\", num_train_samples)\n",
        "print(\"num_val_samples:\", num_val_samples)\n",
        "print(\"num_test_samples:\", num_test_samples)"
      ],
      "metadata": {
        "colab": {
          "base_uri": "https://localhost:8080/"
        },
        "id": "6FB85jlQckpu",
        "outputId": "75ab5e02-ce3f-4fa0-e935-02e4a50efdbf"
      },
      "execution_count": 46,
      "outputs": [
        {
          "output_type": "stream",
          "name": "stdout",
          "text": [
            "num_train_samples: 210225\n",
            "num_val_samples: 105112\n",
            "num_test_samples: 105114\n"
          ]
        }
      ]
    },
    {
      "cell_type": "markdown",
      "source": [
        "Para poder mejorar el modelo como se pide en la práctica, se va a crear el dataset con los datos normalizados."
      ],
      "metadata": {
        "id": "d_kJvsc8crEO"
      }
    },
    {
      "cell_type": "code",
      "source": [
        "# Normalizar datos\n",
        "mean = raw_data[:num_train_samples].mean(axis=0)\n",
        "raw_data -= mean\n",
        "std = raw_data[:num_train_samples].std(axis=0)\n",
        "raw_data /= std\n",
        "\n",
        "# -----------------------------------\n",
        "# Normalizar temperatura de salida\n",
        "# -----------------------------------\n",
        "out_mean =  temperature[:num_train_samples].mean(axis=0)\n",
        "temperature -= out_mean\n",
        "out_std = temperature[:num_train_samples].std(axis=0)\n",
        "temperature /= out_std\n",
        "\n",
        "\n",
        "# Crear timeseries_dataset_from_array\n",
        "sampling_rate = 6\n",
        "sequence_length = 120\n",
        "delay = sampling_rate * (sequence_length + 24 - 1)\n",
        "batch_size = 256\n",
        "\n",
        "train_dataset = keras.utils.timeseries_dataset_from_array(\n",
        "    raw_data[:-delay],\n",
        "    targets=temperature[delay:],\n",
        "    sampling_rate=sampling_rate,\n",
        "    sequence_length=sequence_length,\n",
        "    shuffle=True,\n",
        "    batch_size=batch_size,\n",
        "    start_index=0,\n",
        "    end_index=num_train_samples)\n",
        "\n",
        "val_dataset = keras.utils.timeseries_dataset_from_array(\n",
        "    raw_data[:-delay],\n",
        "    targets=temperature[delay:],\n",
        "    sampling_rate=sampling_rate,\n",
        "    sequence_length=sequence_length,\n",
        "    shuffle=True,\n",
        "    batch_size=batch_size,\n",
        "    start_index=num_train_samples,\n",
        "    end_index=num_train_samples + num_val_samples)\n",
        "\n",
        "test_dataset = keras.utils.timeseries_dataset_from_array(\n",
        "    raw_data[:-delay],\n",
        "    targets=temperature[delay:],\n",
        "    sampling_rate=sampling_rate,\n",
        "    sequence_length=sequence_length,\n",
        "    shuffle=True,\n",
        "    batch_size=batch_size,\n",
        "    start_index=num_train_samples + num_val_samples)"
      ],
      "metadata": {
        "id": "8tF4orvpdC8H"
      },
      "execution_count": 47,
      "outputs": []
    },
    {
      "cell_type": "code",
      "source": [
        "# !CUIDADO. Elimina los resultados de las anteriores búsquedas ejecutadas en una misma sesión de colab\n",
        "!rm -r keras_tuner_results/rnn_regression_tuning/*"
      ],
      "metadata": {
        "colab": {
          "base_uri": "https://localhost:8080/"
        },
        "id": "dh7m6jzfdI3y",
        "outputId": "77a39e5a-841c-41e8-f089-8151fe6063ed"
      },
      "execution_count": 55,
      "outputs": [
        {
          "output_type": "stream",
          "name": "stderr",
          "text": [
            "\"rm\" no se reconoce como un comando interno o externo,\n",
            "programa o archivo por lotes ejecutable.\n"
          ]
        }
      ]
    },
    {
      "cell_type": "code",
      "source": [
        "# --------------------------------------\n",
        "# CUIDADO! Tarda mucho en terminar de ejcutarse\n",
        "# --------------------------------------\n",
        "\n",
        "import numpy as np\n",
        "from tensorflow import keras\n",
        "from tensorflow.keras.models import Sequential\n",
        "from tensorflow.keras.layers import SimpleRNN, Dense\n",
        "from tensorflow.keras.optimizers import Adam, RMSprop\n",
        "from kerastuner.tuners import RandomSearch\n",
        "\n",
        "\n",
        "# Define your RNN model for regression\n",
        "def build_model(hp):\n",
        "\n",
        "    inputs = keras.Input(shape=(sequence_length, raw_data.shape[-1]))\n",
        "    x = LSTM(\n",
        "          units=hp.Choice('units', values=[32,64,128]),\n",
        "          #recurrent_dropout=hp.Choice('recurrent_dropout', values=[0.25, 0.5, 0.75]), # -> Muy lento (no utiliza GPU)\n",
        "        )(inputs)\n",
        "    # Para regularizar la capa Dense, también agregamos\n",
        "    # una capa Dropout después del LSTM.\n",
        "    x = Dropout(hp.Choice('dense_dropout', values=[0.25, 0.5, 0.75]))(x)\n",
        "\n",
        "    for i in range(hp.Choice('dense_ffw', values=[0, 1, 2, 3])):\n",
        "      x = Dense(\n",
        "            hp.Choice(f'dense_{i}', values=[32, 64, 128]),\n",
        "            activation='relu'\n",
        "          )(x)\n",
        "\n",
        "    outputs = Dense(1)(x)\n",
        "\n",
        "    model = keras.Model(inputs, outputs)\n",
        "\n",
        "    # compile\n",
        "    optimizer_choice = hp.Choice('optimizer', values=['adam', 'rmsprop'])\n",
        "    lr = hp.Choice('learning_rate', values=[0.0005, 0.005, 0.05])\n",
        "\n",
        "    if optimizer_choice == 'adam':\n",
        "      optimizer = Adam(learning_rate=lr)\n",
        "    elif optimizer_choice == 'rmsprop':\n",
        "      optimizer = RMSprop(learning_rate=lr)\n",
        "\n",
        "    model.compile(loss='mean_squared_error',\n",
        "                  optimizer=optimizer,\n",
        "                  metrics=['mae'])\n",
        "\n",
        "    return model\n",
        "\n",
        "\n",
        "# Initialize the Keras Tuner RandomSearch\n",
        "tuner = RandomSearch(\n",
        "    build_model,\n",
        "    objective='val_loss',\n",
        "    max_trials=10,  # You can adjust this based on your resources and requirements\n",
        "    directory='keras_tuner_results',\n",
        "    project_name='rnn_regression_tuning'\n",
        ")\n",
        "\n",
        "# Perform the search\n",
        "\n",
        "# ---------------------------------------------------\n",
        "# NOTA! Dado que para la búsqueda de hiperparam. se\n",
        "# utilizará una muestra reducida del conjunto total\n",
        "# de entrenamiento se seleccionará un subconjunto\n",
        "# aleatorio para train_hp y val_hp\n",
        "# Para ello seguiremos una lógica temporal\n",
        "# - train_hp: muestra aleatoria de los primeros 881 reg.\n",
        "# - val_hp: muestra aleatoria de los últimos 50 reg.\n",
        "# ---------------------------------------------------\n",
        "\n",
        "# 180 lotes aleatorios para entrenar\n",
        "train_dataset_hp = train_dataset.skip(\n",
        "    train_dataset.cardinality().numpy()-190\n",
        ").take(180).shuffle(buffer_size=180, reshuffle_each_iteration=True)\n",
        "\n",
        "# 10 lotes aleatorios de entro los últimos 50 para validar\n",
        "val_dataset_hp = train_dataset.skip(\n",
        "    train_dataset.cardinality().numpy()-10\n",
        ")\n",
        "\n",
        "\n",
        "tuner.search(train_dataset_hp, epochs=3, validation_split=0.2, validation_data=val_dataset_hp)\n",
        "\n",
        "# Get the best hyperparameters\n",
        "best_hps = tuner.get_best_hyperparameters(num_trials=1)[0]"
      ],
      "metadata": {
        "colab": {
          "base_uri": "https://localhost:8080/"
        },
        "id": "0CfjFhgUdXsz",
        "outputId": "7f2be553-280d-4bb6-cc1a-4fb1039f776e"
      },
      "execution_count": 53,
      "outputs": [
        {
          "output_type": "stream",
          "name": "stdout",
          "text": [
            "Trial 10 Complete [00h 00m 52s]\n",
            "val_loss: 0.1716156303882599\n",
            "\n",
            "Best val_loss So Far: 0.09563760459423065\n",
            "Total elapsed time: 00h 12m 52s\n"
          ]
        }
      ]
    },
    {
      "cell_type": "code",
      "source": [
        "hyperparameters = best_hps.values\n",
        "print(hyperparameters)"
      ],
      "metadata": {
        "colab": {
          "base_uri": "https://localhost:8080/"
        },
        "id": "ufGIrqj3hQlW",
        "outputId": "5074a226-7cd8-41c0-f0ee-32806b3dd565"
      },
      "execution_count": 61,
      "outputs": [
        {
          "output_type": "stream",
          "name": "stdout",
          "text": [
            "{'units': 64, 'dense_dropout': 0.25, 'dense_ffw': 1, 'optimizer': 'adam', 'learning_rate': 0.005, 'dense_0': 32, 'dense_1': 128, 'dense_2': 32}\n"
          ]
        }
      ]
    },
    {
      "cell_type": "markdown",
      "source": [
        "Estos son los parámetros obtenidos:\n",
        "\n",
        "\n",
        "* 'units': 64\n",
        "* 'dense_dropout': 0.25\n",
        "* 'dense_ffw': 1\n",
        "* 'optimizer': 'adam'\n",
        "* 'learning_rate': 0.005\n",
        "* 'dense_0':32\n",
        "* 'dense_1': 128\n",
        "* 'dense_2': 32\n"
      ],
      "metadata": {
        "id": "J6musr4aiE68"
      }
    },
    {
      "cell_type": "code",
      "source": [
        "inputs = keras.Input(shape=(sequence_length, raw_data.shape[-1]))\n",
        "x = LSTM(\n",
        "      units=64,\n",
        "      #recurrent_dropout=hp.Choice('recurrent_dropout', values=[0.25, 0.5, 0.75]), # -> Muy lento (no utiliza GPU)\n",
        "    )(inputs)\n",
        "# Para regularizar la capa Dense, también agregamos\n",
        "# una capa Dropout después del LSTM.\n",
        "x = Dropout(0.25)(x)\n",
        "\n",
        "x = Dense(32,activation='relu')(x)\n",
        "x = Dense(128,activation='relu')(x)\n",
        "x = Dense(32,activation='relu')(x)\n",
        "\n",
        "outputs = Dense(1)(x)\n",
        "\n",
        "# Build the final model with the best hyperparameters\n",
        "final_model = keras.Model(inputs, outputs)\n",
        "\n",
        "# compile\n",
        "optimizer = Adam(learning_rate=0.005)\n",
        "\n",
        "final_model.compile(loss='mean_squared_error',\n",
        "              optimizer=optimizer,\n",
        "              metrics=['mae'])\n",
        "\n",
        "# Train the final model with your full dataset\n",
        "callbacks = [\n",
        "    keras.callbacks.ModelCheckpoint(\"jena_lstm_dropout.keras\",\n",
        "                                    save_best_only=True)\n",
        "]\n",
        "\n",
        "final_model.fit(train_dataset, epochs=25, validation_data=val_dataset, callbacks=callbacks)"
      ],
      "metadata": {
        "colab": {
          "base_uri": "https://localhost:8080/"
        },
        "id": "3N1VY1LLioh6",
        "outputId": "a3ecca8e-29f7-46d9-b3f1-61a3ab79f7c6"
      },
      "execution_count": 62,
      "outputs": [
        {
          "output_type": "stream",
          "name": "stdout",
          "text": [
            "Epoch 1/25\n",
            "\u001b[1m819/819\u001b[0m \u001b[32m━━━━━━━━━━━━━━━━━━━━\u001b[0m\u001b[37m\u001b[0m \u001b[1m107s\u001b[0m 128ms/step - loss: 0.1493 - mae: 0.2934 - val_loss: 0.1295 - val_mae: 0.2799\n",
            "Epoch 2/25\n",
            "\u001b[1m819/819\u001b[0m \u001b[32m━━━━━━━━━━━━━━━━━━━━\u001b[0m\u001b[37m\u001b[0m \u001b[1m104s\u001b[0m 127ms/step - loss: 0.0811 - mae: 0.2215 - val_loss: 0.1644 - val_mae: 0.3136\n",
            "Epoch 3/25\n",
            "\u001b[1m819/819\u001b[0m \u001b[32m━━━━━━━━━━━━━━━━━━━━\u001b[0m\u001b[37m\u001b[0m \u001b[1m106s\u001b[0m 129ms/step - loss: 0.0515 - mae: 0.1765 - val_loss: 0.1762 - val_mae: 0.3249\n",
            "Epoch 4/25\n",
            "\u001b[1m819/819\u001b[0m \u001b[32m━━━━━━━━━━━━━━━━━━━━\u001b[0m\u001b[37m\u001b[0m \u001b[1m104s\u001b[0m 128ms/step - loss: 0.0382 - mae: 0.1518 - val_loss: 0.1732 - val_mae: 0.3223\n",
            "Epoch 5/25\n",
            "\u001b[1m819/819\u001b[0m \u001b[32m━━━━━━━━━━━━━━━━━━━━\u001b[0m\u001b[37m\u001b[0m \u001b[1m99s\u001b[0m 121ms/step - loss: 0.0318 - mae: 0.1386 - val_loss: 0.1889 - val_mae: 0.3383\n",
            "Epoch 6/25\n",
            "\u001b[1m819/819\u001b[0m \u001b[32m━━━━━━━━━━━━━━━━━━━━\u001b[0m\u001b[37m\u001b[0m \u001b[1m103s\u001b[0m 125ms/step - loss: 0.0265 - mae: 0.1265 - val_loss: 0.1844 - val_mae: 0.3346\n",
            "Epoch 7/25\n",
            "\u001b[1m819/819\u001b[0m \u001b[32m━━━━━━━━━━━━━━━━━━━━\u001b[0m\u001b[37m\u001b[0m \u001b[1m110s\u001b[0m 135ms/step - loss: 0.0243 - mae: 0.1208 - val_loss: 0.1922 - val_mae: 0.3410\n",
            "Epoch 8/25\n",
            "\u001b[1m819/819\u001b[0m \u001b[32m━━━━━━━━━━━━━━━━━━━━\u001b[0m\u001b[37m\u001b[0m \u001b[1m118s\u001b[0m 144ms/step - loss: 0.0244 - mae: 0.1203 - val_loss: 0.1919 - val_mae: 0.3385\n",
            "Epoch 9/25\n",
            "\u001b[1m819/819\u001b[0m \u001b[32m━━━━━━━━━━━━━━━━━━━━\u001b[0m\u001b[37m\u001b[0m \u001b[1m129s\u001b[0m 158ms/step - loss: 0.0207 - mae: 0.1112 - val_loss: 0.1983 - val_mae: 0.3470\n",
            "Epoch 10/25\n",
            "\u001b[1m819/819\u001b[0m \u001b[32m━━━━━━━━━━━━━━━━━━━━\u001b[0m\u001b[37m\u001b[0m \u001b[1m114s\u001b[0m 139ms/step - loss: 0.0196 - mae: 0.1083 - val_loss: 0.1866 - val_mae: 0.3365\n",
            "Epoch 11/25\n",
            "\u001b[1m819/819\u001b[0m \u001b[32m━━━━━━━━━━━━━━━━━━━━\u001b[0m\u001b[37m\u001b[0m \u001b[1m110s\u001b[0m 134ms/step - loss: 0.0238 - mae: 0.1161 - val_loss: 0.1857 - val_mae: 0.3357\n",
            "Epoch 12/25\n",
            "\u001b[1m819/819\u001b[0m \u001b[32m━━━━━━━━━━━━━━━━━━━━\u001b[0m\u001b[37m\u001b[0m \u001b[1m118s\u001b[0m 144ms/step - loss: 0.0211 - mae: 0.1118 - val_loss: 0.2002 - val_mae: 0.3497\n",
            "Epoch 13/25\n",
            "\u001b[1m819/819\u001b[0m \u001b[32m━━━━━━━━━━━━━━━━━━━━\u001b[0m\u001b[37m\u001b[0m \u001b[1m119s\u001b[0m 145ms/step - loss: 0.0172 - mae: 0.1010 - val_loss: 0.1875 - val_mae: 0.3382\n",
            "Epoch 14/25\n",
            "\u001b[1m819/819\u001b[0m \u001b[32m━━━━━━━━━━━━━━━━━━━━\u001b[0m\u001b[37m\u001b[0m \u001b[1m123s\u001b[0m 150ms/step - loss: 0.0167 - mae: 0.0994 - val_loss: 0.1888 - val_mae: 0.3398\n",
            "Epoch 15/25\n",
            "\u001b[1m819/819\u001b[0m \u001b[32m━━━━━━━━━━━━━━━━━━━━\u001b[0m\u001b[37m\u001b[0m \u001b[1m109s\u001b[0m 133ms/step - loss: 0.0156 - mae: 0.0962 - val_loss: 0.1901 - val_mae: 0.3414\n",
            "Epoch 16/25\n",
            "\u001b[1m819/819\u001b[0m \u001b[32m━━━━━━━━━━━━━━━━━━━━\u001b[0m\u001b[37m\u001b[0m \u001b[1m92s\u001b[0m 113ms/step - loss: 0.0153 - mae: 0.0957 - val_loss: 0.1917 - val_mae: 0.3424\n",
            "Epoch 17/25\n",
            "\u001b[1m819/819\u001b[0m \u001b[32m━━━━━━━━━━━━━━━━━━━━\u001b[0m\u001b[37m\u001b[0m \u001b[1m115s\u001b[0m 140ms/step - loss: 0.0153 - mae: 0.0950 - val_loss: 0.1920 - val_mae: 0.3432\n",
            "Epoch 18/25\n",
            "\u001b[1m819/819\u001b[0m \u001b[32m━━━━━━━━━━━━━━━━━━━━\u001b[0m\u001b[37m\u001b[0m \u001b[1m115s\u001b[0m 140ms/step - loss: 0.0168 - mae: 0.0989 - val_loss: 0.1653 - val_mae: 0.3198\n",
            "Epoch 19/25\n",
            "\u001b[1m819/819\u001b[0m \u001b[32m━━━━━━━━━━━━━━━━━━━━\u001b[0m\u001b[37m\u001b[0m \u001b[1m115s\u001b[0m 140ms/step - loss: 0.0543 - mae: 0.1752 - val_loss: 0.1822 - val_mae: 0.3328\n",
            "Epoch 20/25\n",
            "\u001b[1m819/819\u001b[0m \u001b[32m━━━━━━━━━━━━━━━━━━━━\u001b[0m\u001b[37m\u001b[0m \u001b[1m116s\u001b[0m 141ms/step - loss: 0.0192 - mae: 0.1065 - val_loss: 0.1839 - val_mae: 0.3361\n",
            "Epoch 21/25\n",
            "\u001b[1m819/819\u001b[0m \u001b[32m━━━━━━━━━━━━━━━━━━━━\u001b[0m\u001b[37m\u001b[0m \u001b[1m115s\u001b[0m 140ms/step - loss: 0.0159 - mae: 0.0968 - val_loss: 0.1917 - val_mae: 0.3433\n",
            "Epoch 22/25\n",
            "\u001b[1m819/819\u001b[0m \u001b[32m━━━━━━━━━━━━━━━━━━━━\u001b[0m\u001b[37m\u001b[0m \u001b[1m120s\u001b[0m 147ms/step - loss: 0.0147 - mae: 0.0931 - val_loss: 0.1938 - val_mae: 0.3462\n",
            "Epoch 23/25\n",
            "\u001b[1m819/819\u001b[0m \u001b[32m━━━━━━━━━━━━━━━━━━━━\u001b[0m\u001b[37m\u001b[0m \u001b[1m128s\u001b[0m 156ms/step - loss: 0.0134 - mae: 0.0892 - val_loss: 0.1881 - val_mae: 0.3404\n",
            "Epoch 24/25\n",
            "\u001b[1m819/819\u001b[0m \u001b[32m━━━━━━━━━━━━━━━━━━━━\u001b[0m\u001b[37m\u001b[0m \u001b[1m128s\u001b[0m 156ms/step - loss: 0.0132 - mae: 0.0882 - val_loss: 0.1908 - val_mae: 0.3421\n",
            "Epoch 25/25\n",
            "\u001b[1m819/819\u001b[0m \u001b[32m━━━━━━━━━━━━━━━━━━━━\u001b[0m\u001b[37m\u001b[0m \u001b[1m128s\u001b[0m 156ms/step - loss: 0.0138 - mae: 0.0901 - val_loss: 0.1900 - val_mae: 0.3411\n"
          ]
        },
        {
          "output_type": "execute_result",
          "data": {
            "text/plain": [
              "<keras.src.callbacks.history.History at 0x1db69a2b510>"
            ]
          },
          "metadata": {},
          "execution_count": 62
        }
      ]
    },
    {
      "cell_type": "markdown",
      "source": [
        "Segun el historial, el modelo puede reducir el error y el mae hasta la época 15-16, y como el programa sigue, empieza el sobreentrenamiento.\n",
        "\n",
        "Para tratar de quitar el overfitting, se utiliza el recurrent dropout."
      ],
      "metadata": {
        "id": "EZZdK-am14tk"
      }
    },
    {
      "cell_type": "code",
      "source": [
        "# --------------------------------------\n",
        "# CUIDADO! Tarda mucho en terminar de ejcutarse\n",
        "# --------------------------------------\n",
        "\n",
        "inputs = keras.Input(shape=(sequence_length, raw_data.shape[-1]))\n",
        "x = LSTM(\n",
        "      units=128,\n",
        "      recurrent_dropout=0.25, # -> Muy lento (no utiliza GPU)\n",
        "    )(inputs)\n",
        "# Para regularizar la capa Dense, también agregamos\n",
        "# una capa Dropout después del LSTM.\n",
        "x = Dropout(0.5)(x)\n",
        "\n",
        "x = Dense(64,activation='relu')(x)\n",
        "x = Dense(64,activation='relu')(x)\n",
        "x = Dense(32,activation='relu')(x)\n",
        "\n",
        "outputs = Dense(1)(x)\n",
        "\n",
        "# Build the final model with the best hyperparameters\n",
        "final_model = keras.Model(inputs, outputs)\n",
        "\n",
        "# compile\n",
        "optimizer = Adam(learning_rate=0.005)\n",
        "\n",
        "final_model.compile(loss='mean_squared_error',\n",
        "              optimizer=optimizer,\n",
        "              metrics=['mae'])\n",
        "\n",
        "# Train the final model with your full dataset\n",
        "callbacks = [\n",
        "    keras.callbacks.ModelCheckpoint(\"jena_lstm_dropout.keras\",\n",
        "                                    save_best_only=True)\n",
        "]\n",
        "\n",
        "final_model.fit(train_dataset,\n",
        "                epochs=18,\n",
        "                validation_data=val_dataset,\n",
        "                callbacks=callbacks)"
      ],
      "metadata": {
        "colab": {
          "base_uri": "https://localhost:8080/"
        },
        "id": "aY_uW6112U_E",
        "outputId": "80a46318-483e-4411-e0c9-9aff510b1d6e"
      },
      "execution_count": null,
      "outputs": [
        {
          "output_type": "stream",
          "name": "stdout",
          "text": [
            "Epoch 1/18\n",
            "\u001b[1m819/819\u001b[0m \u001b[32m━━━━━━━━━━━━━━━━━━━━\u001b[0m\u001b[37m\u001b[0m \u001b[1m305s\u001b[0m 367ms/step - loss: 0.1589 - mae: 0.3047 - val_loss: 0.1184 - val_mae: 0.2685\n",
            "Epoch 2/18\n",
            "\u001b[1m819/819\u001b[0m \u001b[32m━━━━━━━━━━━━━━━━━━━━\u001b[0m\u001b[37m\u001b[0m \u001b[1m300s\u001b[0m 366ms/step - loss: 0.1097 - mae: 0.2587 - val_loss: 0.1192 - val_mae: 0.2687\n",
            "Epoch 3/18\n",
            "\u001b[1m819/819\u001b[0m \u001b[32m━━━━━━━━━━━━━━━━━━━━\u001b[0m\u001b[37m\u001b[0m \u001b[1m301s\u001b[0m 368ms/step - loss: 0.0898 - mae: 0.2340 - val_loss: 0.1226 - val_mae: 0.2731\n",
            "Epoch 4/18\n",
            "\u001b[1m819/819\u001b[0m \u001b[32m━━━━━━━━━━━━━━━━━━━━\u001b[0m\u001b[37m\u001b[0m \u001b[1m312s\u001b[0m 381ms/step - loss: 0.0739 - mae: 0.2124 - val_loss: 0.1357 - val_mae: 0.2867\n",
            "Epoch 5/18\n",
            "\u001b[1m432/819\u001b[0m \u001b[32m━━━━━━━━━━\u001b[0m\u001b[37m━━━━━━━━━━\u001b[0m \u001b[1m1:59\u001b[0m 309ms/step - loss: 0.0643 - mae: 0.1979"
          ]
        }
      ]
    },
    {
      "cell_type": "markdown",
      "source": [
        "Debido a que la capa LSTM con recurrent dropout no utiliza la potencia de la GPU el entrenamiento es muy lento.\n",
        "\n"
      ],
      "metadata": {
        "id": "Zp8GoHtaAVLl"
      }
    },
    {
      "cell_type": "markdown",
      "source": [
        "### Resultados"
      ],
      "metadata": {
        "id": "rkGW5g6uAbQ5"
      }
    },
    {
      "cell_type": "markdown",
      "source": [
        "Las mejoras a los modelos son las siguientes:\n",
        "\n",
        "\n",
        "1. Vectorizar la dirección del viento.\n",
        "2. Transformación del tiempo a funciones sinusoidales\n",
        "3. Normalizar los valores de salida.\n",
        "\n",
        "Además, con el recurrent dropout reduce el sobreentrenamiento.\n",
        "\n"
      ],
      "metadata": {
        "id": "S6QBlmXaAdmJ"
      }
    }
  ]
}